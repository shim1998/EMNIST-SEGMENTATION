{
 "cells": [
  {
   "cell_type": "markdown",
   "metadata": {},
   "source": [
    "## FINAL MODEL - SHUBHAM MOR, SHIVAM SOLANKI, SARANSH GUPTA, SAYAM DHINGRA\n",
    "### We begin my importing the data from the data folder. "
   ]
  },
  {
   "cell_type": "code",
   "execution_count": 2,
   "metadata": {},
   "outputs": [],
   "source": [
    "import tensorflow as tf\n",
    "\n",
    "from fg import freeze_graph\n",
    "\n",
    "import numpy as np\n",
    "from mnist import MNIST\n",
    "\n",
    "mndata = MNIST('data')\n",
    "#This will load the train and test data\n",
    "X_train, y_train = mndata.load('data/emnist-byclass-train-images-idx3-ubyte',\n",
    "                               'data/emnist-byclass-train-labels-idx1-ubyte')\n",
    "X_test, y_test = mndata.load('data/emnist-byclass-test-images-idx3-ubyte',\n",
    "                             'data/emnist-byclass-test-labels-idx1-ubyte')\n",
    "\n",
    "# Convert data to numpy arrays and normalize images to the interval [0, 1]\n",
    "X_train = np.array(X_train) / 255.0\n",
    "y_train = np.array(y_train)\n",
    "X_test = np.array(X_test) / 255.0\n",
    "y_test = np.array(y_test)"
   ]
  },
  {
   "cell_type": "markdown",
   "metadata": {},
   "source": [
    "# Getting Data ready for pre-processing"
   ]
  },
  {
   "cell_type": "code",
   "execution_count": 3,
   "metadata": {},
   "outputs": [],
   "source": [
    "#Reshaping all images into 28*28 for pre-processing\n",
    "X_train = X_train.reshape(X_train.shape[0], 28, 28)\n",
    "X_test = X_test.reshape(X_test.shape[0], 28, 28)"
   ]
  },
  {
   "cell_type": "code",
   "execution_count": 4,
   "metadata": {},
   "outputs": [
    {
     "data": {
      "text/plain": [
       "<function matplotlib.pyplot.show(*args, **kw)>"
      ]
     },
     "execution_count": 4,
     "metadata": {},
     "output_type": "execute_result"
    }
   ],
   "source": [
    "from matplotlib import pyplot as plt\n",
    "#Display a random image\n",
    "plt.imshow(X_train[0])\n",
    "plt.show"
   ]
  },
  {
   "cell_type": "code",
   "execution_count": 5,
   "metadata": {},
   "outputs": [
    {
     "name": "stdout",
     "output_type": "stream",
     "text": [
      "[[0.         0.         0.         0.         0.         0.\n",
      "  0.         0.         0.         0.         0.         0.\n",
      "  0.         0.         0.         0.         0.         0.\n",
      "  0.         0.         0.         0.         0.         0.\n",
      "  0.         0.         0.         0.        ]\n",
      " [0.         0.         0.         0.         0.         0.\n",
      "  0.         0.         0.         0.         0.         0.\n",
      "  0.         0.         0.         0.         0.         0.\n",
      "  0.         0.         0.         0.         0.         0.\n",
      "  0.         0.         0.         0.        ]\n",
      " [0.         0.         0.         0.         0.         0.\n",
      "  0.         0.         0.         0.         0.         0.\n",
      "  0.         0.         0.         0.         0.         0.\n",
      "  0.         0.         0.         0.         0.         0.\n",
      "  0.         0.         0.         0.        ]\n",
      " [0.         0.         0.         0.         0.         0.\n",
      "  0.         0.         0.         0.         0.         0.\n",
      "  0.         0.         0.         0.         0.         0.\n",
      "  0.         0.         0.         0.         0.         0.\n",
      "  0.         0.         0.         0.        ]\n",
      " [0.         0.         0.         0.         0.         0.\n",
      "  0.         0.         0.         0.         0.         0.\n",
      "  0.         0.         0.         0.         0.         0.\n",
      "  0.         0.         0.         0.         0.         0.\n",
      "  0.         0.         0.         0.        ]\n",
      " [0.         0.         0.         0.         0.         0.\n",
      "  0.         0.         0.         0.         0.         0.\n",
      "  0.         0.         0.         0.         0.         0.\n",
      "  0.         0.         0.01568627 0.01568627 0.01568627 0.\n",
      "  0.         0.         0.         0.        ]\n",
      " [0.         0.         0.         0.         0.         0.\n",
      "  0.         0.         0.         0.         0.         0.\n",
      "  0.         0.         0.         0.00392157 0.07843137 0.1254902\n",
      "  0.14509804 0.2        0.44705882 0.49019608 0.44705882 0.17647059\n",
      "  0.01960784 0.         0.         0.        ]\n",
      " [0.         0.         0.         0.         0.         0.\n",
      "  0.         0.         0.         0.         0.         0.\n",
      "  0.         0.00784314 0.03529412 0.18431373 0.62352941 0.79215686\n",
      "  0.85098039 0.87058824 0.96078431 0.97647059 0.96078431 0.76078431\n",
      "  0.17647059 0.         0.         0.        ]\n",
      " [0.         0.         0.         0.         0.         0.\n",
      "  0.         0.         0.         0.         0.         0.00784314\n",
      "  0.04313725 0.30196078 0.54509804 0.81568627 0.96862745 0.99215686\n",
      "  0.99607843 0.98823529 0.98431373 0.99607843 0.99607843 0.96078431\n",
      "  0.45098039 0.01568627 0.         0.        ]\n",
      " [0.         0.         0.         0.         0.         0.\n",
      "  0.         0.         0.         0.         0.03137255 0.08235294\n",
      "  0.20392157 0.62352941 0.8627451  0.96470588 0.99607843 0.99607843\n",
      "  0.98823529 0.92941176 0.89019608 0.98039216 0.99607843 0.98039216\n",
      "  0.5372549  0.03137255 0.         0.        ]\n",
      " [0.         0.         0.         0.         0.         0.\n",
      "  0.         0.         0.00392157 0.12941176 0.49411765 0.66666667\n",
      "  0.8627451  0.96862745 0.99607843 0.99607843 0.96862745 0.91764706\n",
      "  0.80392157 0.77254902 0.70588235 0.94509804 0.99215686 0.98431373\n",
      "  0.62352941 0.0627451  0.         0.        ]\n",
      " [0.         0.         0.         0.         0.         0.\n",
      "  0.         0.00392157 0.1372549  0.63921569 0.95686275 0.98431373\n",
      "  0.99607843 0.99607843 0.96862745 0.86666667 0.70196078 0.55686275\n",
      "  0.72941176 0.96470588 0.98431373 0.99607843 0.99607843 0.98039216\n",
      "  0.50196078 0.01960784 0.         0.        ]\n",
      " [0.         0.         0.         0.         0.         0.\n",
      "  0.01176471 0.14117647 0.63921569 0.96078431 0.99607843 0.99607843\n",
      "  0.98823529 0.95294118 0.64313725 0.24313725 0.56078431 0.79215686\n",
      "  0.96862745 0.99607843 0.99607843 0.99607843 0.99607843 0.95294118\n",
      "  0.44313725 0.01568627 0.         0.        ]\n",
      " [0.         0.         0.         0.         0.00392157 0.12941176\n",
      "  0.30980392 0.68627451 0.96470588 0.99607843 0.99607843 0.98039216\n",
      "  0.7372549  0.45098039 0.14117647 0.31372549 0.8627451  0.96862745\n",
      "  0.99607843 0.99607843 1.         0.99607843 0.98823529 0.69411765\n",
      "  0.13333333 0.         0.         0.        ]\n",
      " [0.         0.         0.         0.         0.03921569 0.35686275\n",
      "  0.62352941 0.90980392 0.99215686 0.99607843 0.96078431 0.90196078\n",
      "  0.50196078 0.14117647 0.0627451  0.49803922 0.95686275 0.99215686\n",
      "  0.99607843 1.         1.         0.99607843 0.98039216 0.54509804\n",
      "  0.04313725 0.         0.         0.        ]\n",
      " [0.         0.         0.00392157 0.12941176 0.49803922 0.86666667\n",
      "  0.96470588 0.99607843 0.99215686 0.86666667 0.50196078 0.3254902\n",
      "  0.07843137 0.00392157 0.18039216 0.81568627 0.99607843 0.99607843\n",
      "  1.         1.         0.99607843 0.98431373 0.90980392 0.32156863\n",
      "  0.00784314 0.         0.         0.        ]\n",
      " [0.         0.         0.07843137 0.61960784 0.95686275 0.99607843\n",
      "  0.99607843 0.96862745 0.81176471 0.35686275 0.03921569 0.01176471\n",
      "  0.         0.01568627 0.44705882 0.96078431 0.99607843 0.99607843\n",
      "  1.         1.         0.99607843 0.90980392 0.67058824 0.08627451\n",
      "  0.         0.         0.         0.        ]\n",
      " [0.         0.         0.14117647 0.82745098 0.98431373 0.98039216\n",
      "  0.95294118 0.63921569 0.18431373 0.02745098 0.         0.\n",
      "  0.         0.01960784 0.50196078 0.98039216 0.99607843 1.\n",
      "  1.         0.99607843 0.98039216 0.66666667 0.3254902  0.01176471\n",
      "  0.         0.         0.         0.        ]\n",
      " [0.         0.         0.07058824 0.43137255 0.61960784 0.5372549\n",
      "  0.45098039 0.12941176 0.00392157 0.         0.         0.\n",
      "  0.         0.0627451  0.62352941 0.98431373 0.99607843 0.99607843\n",
      "  0.99607843 0.98039216 0.72941176 0.2627451  0.07843137 0.\n",
      "  0.         0.         0.         0.        ]\n",
      " [0.         0.         0.01960784 0.12941176 0.27058824 0.18823529\n",
      "  0.13333333 0.02745098 0.         0.         0.         0.\n",
      "  0.         0.0627451  0.61568627 0.98431373 0.99607843 0.99607843\n",
      "  0.98431373 0.90196078 0.49803922 0.08627451 0.01960784 0.\n",
      "  0.         0.         0.         0.        ]\n",
      " [0.         0.         0.         0.         0.00392157 0.\n",
      "  0.         0.         0.         0.         0.         0.\n",
      "  0.         0.01176471 0.30588235 0.80784314 0.95686275 0.95294118\n",
      "  0.68627451 0.3254902  0.07843137 0.         0.         0.\n",
      "  0.         0.         0.         0.        ]\n",
      " [0.         0.         0.         0.         0.         0.\n",
      "  0.         0.         0.         0.         0.         0.\n",
      "  0.         0.         0.02745098 0.18039216 0.43921569 0.43529412\n",
      "  0.13333333 0.01176471 0.         0.         0.         0.\n",
      "  0.         0.         0.         0.        ]\n",
      " [0.         0.         0.         0.         0.         0.\n",
      "  0.         0.         0.         0.         0.         0.\n",
      "  0.         0.         0.         0.         0.01176471 0.01176471\n",
      "  0.         0.         0.         0.         0.         0.\n",
      "  0.         0.         0.         0.        ]\n",
      " [0.         0.         0.         0.         0.         0.\n",
      "  0.         0.         0.         0.         0.         0.\n",
      "  0.         0.         0.         0.         0.         0.\n",
      "  0.         0.         0.         0.         0.         0.\n",
      "  0.         0.         0.         0.        ]\n",
      " [0.         0.         0.         0.         0.         0.\n",
      "  0.         0.         0.         0.         0.         0.\n",
      "  0.         0.         0.         0.         0.         0.\n",
      "  0.         0.         0.         0.         0.         0.\n",
      "  0.         0.         0.         0.        ]\n",
      " [0.         0.         0.         0.         0.         0.\n",
      "  0.         0.         0.         0.         0.         0.\n",
      "  0.         0.         0.         0.         0.         0.\n",
      "  0.         0.         0.         0.         0.         0.\n",
      "  0.         0.         0.         0.        ]\n",
      " [0.         0.         0.         0.         0.         0.\n",
      "  0.         0.         0.         0.         0.         0.\n",
      "  0.         0.         0.         0.         0.         0.\n",
      "  0.         0.         0.         0.         0.         0.\n",
      "  0.         0.         0.         0.        ]\n",
      " [0.         0.         0.         0.         0.         0.\n",
      "  0.         0.         0.         0.         0.         0.\n",
      "  0.         0.         0.         0.         0.         0.\n",
      "  0.         0.         0.         0.         0.         0.\n",
      "  0.         0.         0.         0.        ]]\n"
     ]
    }
   ],
   "source": [
    "#Y'all can see how an image array looks like. all float values b/w 0 and 1\n",
    "m = X_train[2]\n",
    "print(m)"
   ]
  },
  {
   "cell_type": "markdown",
   "metadata": {},
   "source": [
    "### Now we perform Image preprocessing. We reverse and rotate all train and test images"
   ]
  },
  {
   "cell_type": "code",
   "execution_count": 6,
   "metadata": {},
   "outputs": [
    {
     "name": "stdout",
     "output_type": "stream",
     "text": [
      "Process Complete: Rotated and reversed test and train images!\n"
     ]
    },
    {
     "data": {
      "image/png": "[encoded data removed]",
      "text/plain": [
       "<Figure size 432x288 with 1 Axes>"
      ]
     },
     "metadata": {
      "needs_background": "light"
     },
     "output_type": "display_data"
    }
   ],
   "source": [
    "#for train data\n",
    "for t in range(697932):\n",
    "    X_train[t]=np.transpose(X_train[t])\n",
    "    \n",
    "#checking\n",
    "plt.imshow(X_train[0])\n",
    "plt.show\n",
    "\n",
    "#for test data  \n",
    "for t in range(116323):\n",
    "    X_test[t]=np.transpose(X_test[t])\n",
    "\n",
    "#checking\n",
    "plt.imshow(X_test[1])\n",
    "plt.show\n",
    "\n",
    "print('Process Complete: Rotated and reversed test and train images!')"
   ]
  },
  {
   "cell_type": "code",
   "execution_count": 7,
   "metadata": {},
   "outputs": [
    {
     "data": {
      "text/plain": [
       "<function matplotlib.pyplot.show(*args, **kw)>"
      ]
     },
     "execution_count": 7,
     "metadata": {},
     "output_type": "execute_result"
    },
    {
     "data": {
      "image/png": "[encoded data removed]",
      "text/plain": [
       "<Figure size 432x288 with 1 Axes>"
      ]
     },
     "metadata": {
      "needs_background": "light"
     },
     "output_type": "display_data"
    }
   ],
   "source": [
    "#Checking the last train image, just to be sure!\n",
    "m = X_train[697931]\n",
    "plt.imshow(m)\n",
    "plt.show"
   ]
  },
  {
   "cell_type": "markdown",
   "metadata": {},
   "source": [
    "### Reshaping train and test data again for input into model"
   ]
  },
  {
   "cell_type": "code",
   "execution_count": 8,
   "metadata": {},
   "outputs": [],
   "source": [
    "X_train = X_train.reshape(X_train.shape[0], 784,1)\n",
    "X_test = X_test.reshape(X_test.shape[0], 784,1)"
   ]
  },
  {
   "cell_type": "markdown",
   "metadata": {},
   "source": [
    "### Creation of model"
   ]
  },
  {
   "cell_type": "code",
   "execution_count": 11,
   "metadata": {},
   "outputs": [
    {
     "name": "stderr",
     "output_type": "stream",
     "text": [
      "Using TensorFlow backend.\n"
     ]
    },
    {
     "name": "stdout",
     "output_type": "stream",
     "text": [
      "WARNING:tensorflow:From /home/shim/anaconda3/lib/python3.7/site-packages/tensorflow/python/framework/op_def_library.py:263: colocate_with (from tensorflow.python.framework.ops) is deprecated and will be removed in a future version.\n",
      "Instructions for updating:\n",
      "Colocations handled automatically by placer.\n",
      "WARNING:tensorflow:From /home/shim/anaconda3/lib/python3.7/site-packages/keras/backend/tensorflow_backend.py:3445: calling dropout (from tensorflow.python.ops.nn_ops) with keep_prob is deprecated and will be removed in a future version.\n",
      "Instructions for updating:\n",
      "Please use `rate` instead of `keep_prob`. Rate should be set to `rate = 1 - keep_prob`.\n"
     ]
    }
   ],
   "source": [
    "from keras.models import Sequential\n",
    "from keras import optimizers\n",
    "from keras.layers import Convolution2D, MaxPooling2D, Dropout, Flatten, Dense, Reshape, LSTM\n",
    "from keras import backend as K\n",
    "from keras.constraints import maxnorm\n",
    "def resh(ipar):\n",
    "    opar = []\n",
    "    for image in ipar:\n",
    "        opar.append(image.reshape(-1))\n",
    "    return np.asarray(opar)\n",
    "\n",
    "from keras.utils import np_utils\n",
    "\n",
    "train_images = X_train.astype('float32')\n",
    "test_images = X_test.astype('float32')\n",
    "\n",
    "train_images = resh(train_images)\n",
    "test_images = resh(test_images)\n",
    "\n",
    "\n",
    "train_labels = np_utils.to_categorical(y_train, 62)\n",
    "test_labels = np_utils.to_categorical(y_test, 62)\n",
    "\n",
    "\n",
    "K.set_learning_phase(1)\n",
    "\n",
    "model = Sequential()\n",
    "\n",
    "model.add(Reshape((28,28,1), input_shape=(784,)))\n",
    "\n",
    "#add the layer below for an accuracy of 89%.(Training time - over 20 hours)\n",
    "model.add(Convolution2D(32, (5,5), input_shape=(28,28,1),activation='relu',padding='same',kernel_constraint=maxnorm(3)))\n",
    "model.add(Convolution2D(32, (5,5),activation='relu'))\n",
    "\n",
    "model.add(MaxPooling2D(pool_size=(2,2)))\n",
    "\n",
    "\n",
    "\n",
    "\n",
    "\n",
    "\n",
    "\n",
    "model.add(Flatten())\n",
    "\n",
    "\n",
    "\n",
    "\n",
    "#model.add(Dense(1024, activation='relu', kernel_constraint=maxnorm(3)))\n",
    "model.add(Dense(512, activation='relu', kernel_constraint=maxnorm(3)))\n",
    "\n",
    "\n",
    "\n",
    "model.add(Dropout(0.5))\n",
    "\n",
    "model.add(Dense(62, activation='softmax'))\n",
    "\n",
    "#opt = optimizers.Adam(lr=0.001, beta_1=0.9, beta_2=0.999, epsilon=1e-8)\n",
    "#opt = optimizers.Adadelta()\n",
    "opt = optimizers.Adamax(lr=0.002, beta_1=0.9, beta_2=0.999, epsilon=None, decay=0.0)\n",
    "model.compile(loss='categorical_crossentropy', optimizer=opt, metrics=['accuracy'])"
   ]
  },
  {
   "cell_type": "markdown",
   "metadata": {},
   "source": [
    "### Training of model and evaluation"
   ]
  },
  {
   "cell_type": "code",
   "execution_count": 12,
   "metadata": {},
   "outputs": [
    {
     "name": "stdout",
     "output_type": "stream",
     "text": [
      "_________________________________________________________________\n",
      "Layer (type)                 Output Shape              Param #   \n",
      "=================================================================\n",
      "reshape_1 (Reshape)          (None, 28, 28, 1)         0         \n",
      "_________________________________________________________________\n",
      "conv2d_1 (Conv2D)            (None, 28, 28, 32)        832       \n",
      "_________________________________________________________________\n",
      "conv2d_2 (Conv2D)            (None, 24, 24, 32)        25632     \n",
      "_________________________________________________________________\n",
      "max_pooling2d_1 (MaxPooling2 (None, 12, 12, 32)        0         \n",
      "_________________________________________________________________\n",
      "flatten_1 (Flatten)          (None, 4608)              0         \n",
      "_________________________________________________________________\n",
      "dense_1 (Dense)              (None, 512)               2359808   \n",
      "_________________________________________________________________\n",
      "dropout_1 (Dropout)          (None, 512)               0         \n",
      "_________________________________________________________________\n",
      "dense_2 (Dense)              (None, 62)                31806     \n",
      "=================================================================\n",
      "Total params: 2,418,078\n",
      "Trainable params: 2,418,078\n",
      "Non-trainable params: 0\n",
      "_________________________________________________________________\n",
      "None\n",
      "WARNING:tensorflow:From /home/shim/anaconda3/lib/python3.7/site-packages/tensorflow/python/ops/math_ops.py:3066: to_int32 (from tensorflow.python.ops.math_ops) is deprecated and will be removed in a future version.\n",
      "Instructions for updating:\n",
      "Use tf.cast instead.\n",
      "Train on 697932 samples, validate on 116323 samples\n",
      "Epoch 1/20\n",
      "697932/697932 [==============================] - 62s 89us/step - loss: 0.5552 - acc: 0.8172 - val_loss: 0.4341 - val_acc: 0.8468\n",
      "Epoch 2/20\n",
      "697932/697932 [==============================] - 59s 84us/step - loss: 0.4133 - acc: 0.8527 - val_loss: 0.4060 - val_acc: 0.8544\n",
      "Epoch 3/20\n",
      "697932/697932 [==============================] - 59s 85us/step - loss: 0.3875 - acc: 0.8598 - val_loss: 0.3925 - val_acc: 0.8585\n",
      "Epoch 4/20\n",
      "697932/697932 [==============================] - 59s 84us/step - loss: 0.3715 - acc: 0.8640 - val_loss: 0.3858 - val_acc: 0.8606\n",
      "Epoch 5/20\n",
      "697932/697932 [==============================] - 60s 86us/step - loss: 0.3611 - acc: 0.8666 - val_loss: 0.3834 - val_acc: 0.8608\n",
      "Epoch 6/20\n",
      "697932/697932 [==============================] - 60s 86us/step - loss: 0.3525 - acc: 0.8693 - val_loss: 0.3809 - val_acc: 0.8621\n",
      "Epoch 7/20\n",
      "697932/697932 [==============================] - 60s 85us/step - loss: 0.3452 - acc: 0.8713 - val_loss: 0.3815 - val_acc: 0.8618\n",
      "Epoch 8/20\n",
      "697932/697932 [==============================] - 60s 86us/step - loss: 0.3374 - acc: 0.8735 - val_loss: 0.3827 - val_acc: 0.8619\n",
      "Epoch 9/20\n",
      "697932/697932 [==============================] - 60s 86us/step - loss: 0.3322 - acc: 0.8753 - val_loss: 0.3870 - val_acc: 0.8629\n",
      "Epoch 10/20\n",
      "697932/697932 [==============================] - 59s 85us/step - loss: 0.3255 - acc: 0.8773 - val_loss: 0.3824 - val_acc: 0.8630\n",
      "Epoch 11/20\n",
      "697932/697932 [==============================] - 60s 86us/step - loss: 0.3206 - acc: 0.8789 - val_loss: 0.3802 - val_acc: 0.8629\n",
      "Epoch 12/20\n",
      "697932/697932 [==============================] - 59s 84us/step - loss: 0.3159 - acc: 0.8801 - val_loss: 0.3818 - val_acc: 0.8623\n",
      "Epoch 13/20\n",
      "697932/697932 [==============================] - 60s 86us/step - loss: 0.3108 - acc: 0.8814 - val_loss: 0.3840 - val_acc: 0.8639\n",
      "Epoch 14/20\n",
      "697932/697932 [==============================] - 61s 87us/step - loss: 0.3063 - acc: 0.8831 - val_loss: 0.3942 - val_acc: 0.8619\n",
      "Epoch 15/20\n",
      "697932/697932 [==============================] - 60s 86us/step - loss: 0.3026 - acc: 0.8843 - val_loss: 0.3943 - val_acc: 0.8620\n",
      "Epoch 16/20\n",
      "697932/697932 [==============================] - 60s 86us/step - loss: 0.2989 - acc: 0.8860 - val_loss: 0.3974 - val_acc: 0.8603\n",
      "Epoch 17/20\n",
      "697932/697932 [==============================] - 60s 86us/step - loss: 0.2949 - acc: 0.8870 - val_loss: 0.4020 - val_acc: 0.8586\n",
      "Epoch 18/20\n",
      "697932/697932 [==============================] - 59s 85us/step - loss: 0.2910 - acc: 0.8885 - val_loss: 0.4016 - val_acc: 0.8602\n",
      "Epoch 19/20\n",
      "697932/697932 [==============================] - 59s 85us/step - loss: 0.2883 - acc: 0.8894 - val_loss: 0.4067 - val_acc: 0.8596\n",
      "Epoch 20/20\n",
      "697932/697932 [==============================] - 60s 85us/step - loss: 0.2843 - acc: 0.8910 - val_loss: 0.4047 - val_acc: 0.8578\n"
     ]
    }
   ],
   "source": [
    "print(model.summary())\n",
    "history = model.fit(train_images,train_labels,validation_data=(test_images, test_labels), batch_size=128, epochs=20)"
   ]
  },
  {
   "cell_type": "code",
   "execution_count": 13,
   "metadata": {},
   "outputs": [
    {
     "name": "stdout",
     "output_type": "stream",
     "text": [
      "Accuracy: 85.82%\n"
     ]
    }
   ],
   "source": [
    "#evaluating model on test data. will take time\n",
    "scores = model.evaluate(test_images,test_labels, verbose = 0)\n",
    "print(\"Accuracy: %.2f%%\"%(scores[1]*100))"
   ]
  },
  {
   "cell_type": "markdown",
   "metadata": {},
   "source": [
    "## Creating model history graphs"
   ]
  },
  {
   "cell_type": "code",
   "execution_count": 14,
   "metadata": {},
   "outputs": [
    {
     "name": "stdout",
     "output_type": "stream",
     "text": [
      "dict_keys(['val_loss', 'val_acc', 'loss', 'acc'])\n"
     ]
    },
    {
     "data": {
      "image/png": "[encoded data removed]",
      "text/plain": [
       "<Figure size 432x288 with 1 Axes>"
      ]
     },
     "metadata": {
      "needs_background": "light"
     },
     "output_type": "display_data"
    },
    {
     "data": {
      "image/png": "[encoded data removed]",
      "text/plain": [
       "<Figure size 432x288 with 1 Axes>"
      ]
     },
     "metadata": {
      "needs_background": "light"
     },
     "output_type": "display_data"
    }
   ],
   "source": [
    "print(history.history.keys())\n",
    "# summarize history for accuracy\n",
    "plt.plot(history.history['acc'])\n",
    "plt.plot(history.history['val_acc'])\n",
    "plt.title('Model Accuracy')\n",
    "plt.ylabel('Accuracy')\n",
    "plt.xlabel('Epoch')\n",
    "plt.legend(['Train', 'Test'], loc='upper left')\n",
    "plt.grid()\n",
    "plt.show()\n",
    "# summarize history for loss\n",
    "plt.plot(history.history['loss'])\n",
    "plt.plot(history.history['val_loss'])\n",
    "plt.title('Model loss')\n",
    "plt.ylabel('Loss')\n",
    "plt.xlabel('Epoch')\n",
    "plt.legend(['Train', 'Test'], loc='upper left')\n",
    "plt.grid()\n",
    "plt.show()"
   ]
  },
  {
   "cell_type": "code",
   "execution_count": 15,
   "metadata": {},
   "outputs": [
    {
     "data": {
      "image/png": "[encoded data removed]",
      "text/plain": [
       "<Figure size 432x288 with 1 Axes>"
      ]
     },
     "metadata": {
      "needs_background": "light"
     },
     "output_type": "display_data"
    }
   ],
   "source": [
    "objects = ('RMSDrop', 'Adam', 'Adamax', 'SGD', 'Adadelta')\n",
    "y_pos = np.arange(len(objects))\n",
    "performance = [86.2,85.39,89.53,84.29,87.11]\n",
    " \n",
    "plt.bar(y_pos, performance, align='center', alpha=0.5)\n",
    "plt.xticks(y_pos, objects)\n",
    "plt.ylabel('Accuracy')\n",
    "plt.title('Optimizers')\n",
    "plt.ylim(50,100)\n",
    "plt.show()"
   ]
  },
  {
   "cell_type": "markdown",
   "metadata": {},
   "source": []
  },
  {
   "cell_type": "markdown",
   "metadata": {},
   "source": [
    "# Freezing the graph for android Import"
   ]
  },
  {
   "cell_type": "code",
   "execution_count": 16,
   "metadata": {},
   "outputs": [
    {
     "name": "stdout",
     "output_type": "stream",
     "text": [
      "WARNING:tensorflow:From /mnt/Data/Projects/EMNIST/fg.py:15: convert_variables_to_constants (from tensorflow.python.framework.graph_util_impl) is deprecated and will be removed in a future version.\n",
      "Instructions for updating:\n",
      "Use tf.compat.v1.graph_util.convert_variables_to_constants\n",
      "WARNING:tensorflow:From /home/shim/anaconda3/lib/python3.7/site-packages/tensorflow/python/framework/graph_util_impl.py:245: extract_sub_graph (from tensorflow.python.framework.graph_util_impl) is deprecated and will be removed in a future version.\n",
      "Instructions for updating:\n",
      "Use tf.compat.v1.graph_util.extract_sub_graph\n",
      "INFO:tensorflow:Froze 29 variables.\n",
      "INFO:tensorflow:Converted 29 variables to const ops.\n"
     ]
    },
    {
     "ename": "NotFoundError",
     "evalue": "./C:/Users/Shubham/PycharmProjects/amnist/PBfile8953.pb.tmp2cc2a490d7584f70bd54acfd824d019f; No such file or directory",
     "output_type": "error",
     "traceback": [
      "\u001b[0;31m---------------------------------------------------------------------------\u001b[0m",
      "\u001b[0;31mNotFoundError\u001b[0m                             Traceback (most recent call last)",
      "\u001b[0;32m<ipython-input-16-d2315073646c>\u001b[0m in \u001b[0;36m<module>\u001b[0;34m\u001b[0m\n\u001b[1;32m      1\u001b[0m \u001b[0mfrozen_graph\u001b[0m \u001b[0;34m=\u001b[0m \u001b[0mfreeze_graph\u001b[0m\u001b[0;34m(\u001b[0m\u001b[0mK\u001b[0m\u001b[0;34m.\u001b[0m\u001b[0mget_session\u001b[0m\u001b[0;34m(\u001b[0m\u001b[0;34m)\u001b[0m\u001b[0;34m,\u001b[0m \u001b[0moutput_names\u001b[0m\u001b[0;34m=\u001b[0m\u001b[0;34m[\u001b[0m\u001b[0mmodel\u001b[0m\u001b[0;34m.\u001b[0m\u001b[0moutput\u001b[0m\u001b[0;34m.\u001b[0m\u001b[0mop\u001b[0m\u001b[0;34m.\u001b[0m\u001b[0mname\u001b[0m\u001b[0;34m]\u001b[0m\u001b[0;34m)\u001b[0m\u001b[0;34m\u001b[0m\u001b[0;34m\u001b[0m\u001b[0m\n\u001b[0;32m----> 2\u001b[0;31m \u001b[0mtf\u001b[0m\u001b[0;34m.\u001b[0m\u001b[0mtrain\u001b[0m\u001b[0;34m.\u001b[0m\u001b[0mwrite_graph\u001b[0m\u001b[0;34m(\u001b[0m\u001b[0mfrozen_graph\u001b[0m\u001b[0;34m,\u001b[0m\u001b[0;34m'.'\u001b[0m\u001b[0;34m,\u001b[0m\u001b[0;34m'C:/Users/Shubham/PycharmProjects/amnist/PBfile8953.pb'\u001b[0m\u001b[0;34m,\u001b[0m\u001b[0mas_text\u001b[0m\u001b[0;34m=\u001b[0m\u001b[0;32mFalse\u001b[0m\u001b[0;34m)\u001b[0m\u001b[0;34m\u001b[0m\u001b[0;34m\u001b[0m\u001b[0m\n\u001b[0m\u001b[1;32m      3\u001b[0m \u001b[0mprint\u001b[0m\u001b[0;34m(\u001b[0m\u001b[0mmodel\u001b[0m\u001b[0;34m.\u001b[0m\u001b[0minput\u001b[0m\u001b[0;34m.\u001b[0m\u001b[0mop\u001b[0m\u001b[0;34m.\u001b[0m\u001b[0mname\u001b[0m\u001b[0;34m)\u001b[0m\u001b[0;34m\u001b[0m\u001b[0;34m\u001b[0m\u001b[0m\n\u001b[1;32m      4\u001b[0m \u001b[0mprint\u001b[0m\u001b[0;34m(\u001b[0m\u001b[0mmodel\u001b[0m\u001b[0;34m.\u001b[0m\u001b[0moutput\u001b[0m\u001b[0;34m.\u001b[0m\u001b[0mop\u001b[0m\u001b[0;34m.\u001b[0m\u001b[0mname\u001b[0m\u001b[0;34m)\u001b[0m\u001b[0;34m\u001b[0m\u001b[0;34m\u001b[0m\u001b[0m\n",
      "\u001b[0;32m~/anaconda3/lib/python3.7/site-packages/tensorflow/python/framework/graph_io.py\u001b[0m in \u001b[0;36mwrite_graph\u001b[0;34m(graph_or_graph_def, logdir, name, as_text)\u001b[0m\n\u001b[1;32m     71\u001b[0m                                         text_format.MessageToString(graph_def))\n\u001b[1;32m     72\u001b[0m   \u001b[0;32melse\u001b[0m\u001b[0;34m:\u001b[0m\u001b[0;34m\u001b[0m\u001b[0;34m\u001b[0m\u001b[0m\n\u001b[0;32m---> 73\u001b[0;31m     \u001b[0mfile_io\u001b[0m\u001b[0;34m.\u001b[0m\u001b[0matomic_write_string_to_file\u001b[0m\u001b[0;34m(\u001b[0m\u001b[0mpath\u001b[0m\u001b[0;34m,\u001b[0m \u001b[0mgraph_def\u001b[0m\u001b[0;34m.\u001b[0m\u001b[0mSerializeToString\u001b[0m\u001b[0;34m(\u001b[0m\u001b[0;34m)\u001b[0m\u001b[0;34m)\u001b[0m\u001b[0;34m\u001b[0m\u001b[0;34m\u001b[0m\u001b[0m\n\u001b[0m\u001b[1;32m     74\u001b[0m   \u001b[0;32mreturn\u001b[0m \u001b[0mpath\u001b[0m\u001b[0;34m\u001b[0m\u001b[0;34m\u001b[0m\u001b[0m\n",
      "\u001b[0;32m~/anaconda3/lib/python3.7/site-packages/tensorflow/python/lib/io/file_io.py\u001b[0m in \u001b[0;36matomic_write_string_to_file\u001b[0;34m(filename, contents, overwrite)\u001b[0m\n\u001b[1;32m    543\u001b[0m   \"\"\"\n\u001b[1;32m    544\u001b[0m   \u001b[0mtemp_pathname\u001b[0m \u001b[0;34m=\u001b[0m \u001b[0mfilename\u001b[0m \u001b[0;34m+\u001b[0m \u001b[0;34m\".tmp\"\u001b[0m \u001b[0;34m+\u001b[0m \u001b[0muuid\u001b[0m\u001b[0;34m.\u001b[0m\u001b[0muuid4\u001b[0m\u001b[0;34m(\u001b[0m\u001b[0;34m)\u001b[0m\u001b[0;34m.\u001b[0m\u001b[0mhex\u001b[0m\u001b[0;34m\u001b[0m\u001b[0;34m\u001b[0m\u001b[0m\n\u001b[0;32m--> 545\u001b[0;31m   \u001b[0mwrite_string_to_file\u001b[0m\u001b[0;34m(\u001b[0m\u001b[0mtemp_pathname\u001b[0m\u001b[0;34m,\u001b[0m \u001b[0mcontents\u001b[0m\u001b[0;34m)\u001b[0m\u001b[0;34m\u001b[0m\u001b[0;34m\u001b[0m\u001b[0m\n\u001b[0m\u001b[1;32m    546\u001b[0m   \u001b[0;32mtry\u001b[0m\u001b[0;34m:\u001b[0m\u001b[0;34m\u001b[0m\u001b[0;34m\u001b[0m\u001b[0m\n\u001b[1;32m    547\u001b[0m     \u001b[0mrename\u001b[0m\u001b[0;34m(\u001b[0m\u001b[0mtemp_pathname\u001b[0m\u001b[0;34m,\u001b[0m \u001b[0mfilename\u001b[0m\u001b[0;34m,\u001b[0m \u001b[0moverwrite\u001b[0m\u001b[0;34m)\u001b[0m\u001b[0;34m\u001b[0m\u001b[0;34m\u001b[0m\u001b[0m\n",
      "\u001b[0;32m~/anaconda3/lib/python3.7/site-packages/tensorflow/python/lib/io/file_io.py\u001b[0m in \u001b[0;36mwrite_string_to_file\u001b[0;34m(filename, file_content)\u001b[0m\n\u001b[1;32m    343\u001b[0m   \"\"\"\n\u001b[1;32m    344\u001b[0m   \u001b[0;32mwith\u001b[0m \u001b[0mFileIO\u001b[0m\u001b[0;34m(\u001b[0m\u001b[0mfilename\u001b[0m\u001b[0;34m,\u001b[0m \u001b[0mmode\u001b[0m\u001b[0;34m=\u001b[0m\u001b[0;34m\"w\"\u001b[0m\u001b[0;34m)\u001b[0m \u001b[0;32mas\u001b[0m \u001b[0mf\u001b[0m\u001b[0;34m:\u001b[0m\u001b[0;34m\u001b[0m\u001b[0;34m\u001b[0m\u001b[0m\n\u001b[0;32m--> 345\u001b[0;31m     \u001b[0mf\u001b[0m\u001b[0;34m.\u001b[0m\u001b[0mwrite\u001b[0m\u001b[0;34m(\u001b[0m\u001b[0mfile_content\u001b[0m\u001b[0;34m)\u001b[0m\u001b[0;34m\u001b[0m\u001b[0;34m\u001b[0m\u001b[0m\n\u001b[0m\u001b[1;32m    346\u001b[0m \u001b[0;34m\u001b[0m\u001b[0m\n\u001b[1;32m    347\u001b[0m \u001b[0;34m\u001b[0m\u001b[0m\n",
      "\u001b[0;32m~/anaconda3/lib/python3.7/site-packages/tensorflow/python/lib/io/file_io.py\u001b[0m in \u001b[0;36mwrite\u001b[0;34m(self, file_content)\u001b[0m\n\u001b[1;32m    106\u001b[0m   \u001b[0;32mdef\u001b[0m \u001b[0mwrite\u001b[0m\u001b[0;34m(\u001b[0m\u001b[0mself\u001b[0m\u001b[0;34m,\u001b[0m \u001b[0mfile_content\u001b[0m\u001b[0;34m)\u001b[0m\u001b[0;34m:\u001b[0m\u001b[0;34m\u001b[0m\u001b[0;34m\u001b[0m\u001b[0m\n\u001b[1;32m    107\u001b[0m     \u001b[0;34m\"\"\"Writes file_content to the file. Appends to the end of the file.\"\"\"\u001b[0m\u001b[0;34m\u001b[0m\u001b[0;34m\u001b[0m\u001b[0m\n\u001b[0;32m--> 108\u001b[0;31m     \u001b[0mself\u001b[0m\u001b[0;34m.\u001b[0m\u001b[0m_prewrite_check\u001b[0m\u001b[0;34m(\u001b[0m\u001b[0;34m)\u001b[0m\u001b[0;34m\u001b[0m\u001b[0;34m\u001b[0m\u001b[0m\n\u001b[0m\u001b[1;32m    109\u001b[0m     \u001b[0;32mwith\u001b[0m \u001b[0merrors\u001b[0m\u001b[0;34m.\u001b[0m\u001b[0mraise_exception_on_not_ok_status\u001b[0m\u001b[0;34m(\u001b[0m\u001b[0;34m)\u001b[0m \u001b[0;32mas\u001b[0m \u001b[0mstatus\u001b[0m\u001b[0;34m:\u001b[0m\u001b[0;34m\u001b[0m\u001b[0;34m\u001b[0m\u001b[0m\n\u001b[1;32m    110\u001b[0m       pywrap_tensorflow.AppendToFile(\n",
      "\u001b[0;32m~/anaconda3/lib/python3.7/site-packages/tensorflow/python/lib/io/file_io.py\u001b[0m in \u001b[0;36m_prewrite_check\u001b[0;34m(self)\u001b[0m\n\u001b[1;32m     92\u001b[0m       \u001b[0;32mwith\u001b[0m \u001b[0merrors\u001b[0m\u001b[0;34m.\u001b[0m\u001b[0mraise_exception_on_not_ok_status\u001b[0m\u001b[0;34m(\u001b[0m\u001b[0;34m)\u001b[0m \u001b[0;32mas\u001b[0m \u001b[0mstatus\u001b[0m\u001b[0;34m:\u001b[0m\u001b[0;34m\u001b[0m\u001b[0;34m\u001b[0m\u001b[0m\n\u001b[1;32m     93\u001b[0m         self._writable_file = pywrap_tensorflow.CreateWritableFile(\n\u001b[0;32m---> 94\u001b[0;31m             compat.as_bytes(self.__name), compat.as_bytes(self.__mode), status)\n\u001b[0m\u001b[1;32m     95\u001b[0m \u001b[0;34m\u001b[0m\u001b[0m\n\u001b[1;32m     96\u001b[0m   \u001b[0;32mdef\u001b[0m \u001b[0m_prepare_value\u001b[0m\u001b[0;34m(\u001b[0m\u001b[0mself\u001b[0m\u001b[0;34m,\u001b[0m \u001b[0mval\u001b[0m\u001b[0;34m)\u001b[0m\u001b[0;34m:\u001b[0m\u001b[0;34m\u001b[0m\u001b[0;34m\u001b[0m\u001b[0m\n",
      "\u001b[0;32m~/anaconda3/lib/python3.7/site-packages/tensorflow/python/framework/errors_impl.py\u001b[0m in \u001b[0;36m__exit__\u001b[0;34m(self, type_arg, value_arg, traceback_arg)\u001b[0m\n\u001b[1;32m    526\u001b[0m             \u001b[0;32mNone\u001b[0m\u001b[0;34m,\u001b[0m \u001b[0;32mNone\u001b[0m\u001b[0;34m,\u001b[0m\u001b[0;34m\u001b[0m\u001b[0;34m\u001b[0m\u001b[0m\n\u001b[1;32m    527\u001b[0m             \u001b[0mcompat\u001b[0m\u001b[0;34m.\u001b[0m\u001b[0mas_text\u001b[0m\u001b[0;34m(\u001b[0m\u001b[0mc_api\u001b[0m\u001b[0;34m.\u001b[0m\u001b[0mTF_Message\u001b[0m\u001b[0;34m(\u001b[0m\u001b[0mself\u001b[0m\u001b[0;34m.\u001b[0m\u001b[0mstatus\u001b[0m\u001b[0;34m.\u001b[0m\u001b[0mstatus\u001b[0m\u001b[0;34m)\u001b[0m\u001b[0;34m)\u001b[0m\u001b[0;34m,\u001b[0m\u001b[0;34m\u001b[0m\u001b[0;34m\u001b[0m\u001b[0m\n\u001b[0;32m--> 528\u001b[0;31m             c_api.TF_GetCode(self.status.status))\n\u001b[0m\u001b[1;32m    529\u001b[0m     \u001b[0;31m# Delete the underlying status object from memory otherwise it stays alive\u001b[0m\u001b[0;34m\u001b[0m\u001b[0;34m\u001b[0m\u001b[0;34m\u001b[0m\u001b[0m\n\u001b[1;32m    530\u001b[0m     \u001b[0;31m# as there is a reference to status from this from the traceback due to\u001b[0m\u001b[0;34m\u001b[0m\u001b[0;34m\u001b[0m\u001b[0;34m\u001b[0m\u001b[0m\n",
      "\u001b[0;31mNotFoundError\u001b[0m: ./C:/Users/Shubham/PycharmProjects/amnist/PBfile8953.pb.tmp2cc2a490d7584f70bd54acfd824d019f; No such file or directory"
     ]
    }
   ],
   "source": [
    "frozen_graph = freeze_graph(K.get_session(), output_names=[model.output.op.name])\n",
    "tf.train.write_graph(frozen_graph,'.','C:/Users/Shubham/PycharmProjects/amnist/PBfile8953.pb',as_text=False)\n",
    "print(model.input.op.name)\n",
    "print(model.output.op.name)"
   ]
  },
  {
   "cell_type": "markdown",
   "metadata": {},
   "source": [
    "## Predicting a single image using the model"
   ]
  },
  {
   "cell_type": "code",
   "execution_count": 17,
   "metadata": {},
   "outputs": [
    {
     "name": "stdout",
     "output_type": "stream",
     "text": [
      "prediction: [7]\n"
     ]
    },
    {
     "data": {
      "image/png": "[encoded data removed]",
      "text/plain": [
       "<Figure size 432x288 with 1 Axes>"
      ]
     },
     "metadata": {
      "needs_background": "light"
     },
     "output_type": "display_data"
    }
   ],
   "source": [
    "m = X_test[258].reshape(28,28)\n",
    "plt.imshow(m)\n",
    "plt.show\n",
    "print('prediction: '+str(model.predict_classes(X_test[258].reshape(1,784))))"
   ]
  },
  {
   "cell_type": "markdown",
   "metadata": {},
   "source": [
    "## Saving the model"
   ]
  },
  {
   "cell_type": "code",
   "execution_count": 18,
   "metadata": {},
   "outputs": [],
   "source": [
    "from keras.models import load_model\n",
    "from keras.models import model_from_json\n",
    "\n",
    "model_json = model.to_json()\n",
    "with open(\"model.json\", \"w\") as json_file:\n",
    "    json_file.write(model_json)\n",
    "#saves the model info as json file\n",
    "    \n",
    "model.save_weights(\"model.h5\")\n",
    "# Creates a HDF5 file 'model.h5'"
   ]
  },
  {
   "cell_type": "markdown",
   "metadata": {},
   "source": [
    "# For usage of this model to predict words, open segment.ipynb"
   ]
  }
 ],
 "metadata": {
  "kernelspec": {
   "display_name": "Python 3",
   "language": "python",
   "name": "python3"
  },
  "language_info": {
   "codemirror_mode": {
    "name": "ipython",
    "version": 3
   },
   "file_extension": ".py",
   "mimetype": "text/x-python",
   "name": "python",
   "nbconvert_exporter": "python",
   "pygments_lexer": "ipython3",
   "version": "3.7.3"
  }
 },
 "nbformat": 4,
 "nbformat_minor": 2
}
